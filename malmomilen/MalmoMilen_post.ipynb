{
 "metadata": {
  "name": "",
  "signature": "sha256:937ea7bba575077f4be9e5eaf0f57e8f17c647d3cc730757c26dbe4cc9b366f2"
 },
 "nbformat": 3,
 "nbformat_minor": 0,
 "worksheets": [
  {
   "cells": [
    {
     "cell_type": "heading",
     "level": 1,
     "metadata": {},
     "source": [
      "Malm\u00f6Milen post analysis"
     ]
    },
    {
     "cell_type": "heading",
     "level": 2,
     "metadata": {},
     "source": [
      "Toolbox"
     ]
    },
    {
     "cell_type": "code",
     "collapsed": false,
     "input": [
      "import requests\n",
      "from bs4 import BeautifulSoup\n",
      "from collections import Counter\n",
      "\n",
      "import math\n",
      "import matplotlib.pyplot as plt;\n",
      "% matplotlib inline\n",
      "\n",
      "import numpy as np"
     ],
     "language": "python",
     "metadata": {},
     "outputs": [],
     "prompt_number": 1
    },
    {
     "cell_type": "heading",
     "level": 2,
     "metadata": {},
     "source": [
      "Data scraping"
     ]
    },
    {
     "cell_type": "markdown",
     "metadata": {},
     "source": [
      "The data source is divided into 12 different web pages so we will need to scrap the web page several times.\n",
      "Let's define a function for that."
     ]
    },
    {
     "cell_type": "code",
     "collapsed": false,
     "input": [
      "raceNumber = {\"M\": 8364, \"W\": 8541}\n",
      "\n",
      "def scrap_page(gender, runners, p):\n",
      "    page = requests.get(\"http://www.racetimer.se/en/race/resultlist/1997?checkpoint=9999&layout=marathon&page=\" + str(p) + \"&rc_id=\" + str(raceNumber[gender]))\n",
      "    soup = BeautifulSoup(page.text)\n",
      "    if (soup == None):\n",
      "        return\n",
      "    table = soup.body.table.find(id='top3-list')\n",
      "    lines = table.find_all('tr')\n",
      "\n",
      "    if len(lines) == 0:\n",
      "        return\n",
      "    \n",
      "    for line in lines:\n",
      "        c = line.find_all('td')\n",
      "        if len(c) == 0:\n",
      "            continue\n",
      "            \n",
      "        r = {}\n",
      "        r[\"rank\"] = int(c[0].text)\n",
      "        r[\"fullname\"] = c[1].text.replace(\"\u00bb\", \"\").strip()\n",
      "        split = r[\"fullname\"].rfind(\" \")\n",
      "        r[\"firstname\"] = r[\"fullname\"][:split].strip()\n",
      "        r[\"lastname\"] = r[\"fullname\"][split+1:].strip()\n",
      "        r[\"city\"] = c[3].text.strip()\n",
      "        \n",
      "        # get a proper value for the year of birth\n",
      "        try:\n",
      "            r[\"yob\"] = int(c[2].text.strip()) if c[2].text.strip() != \"\" else -1\n",
      "        except ValueError:\n",
      "            r[\"yob\"] = -1\n",
      "        \n",
      "        r[\"nb\"] = int(c[4].text.strip())\n",
      "        r[\"time\"] = c[5].text.strip()\n",
      "        \n",
      "        # convert the time to seconds\n",
      "        parts = r[\"time\"].split(':')\n",
      "        hours, minutes, seconds = 0, 0, 0\n",
      "        if len(parts) == 2:\n",
      "            minutes, seconds = parts\n",
      "        else:\n",
      "            hours, minutes, seconds = parts\n",
      "        r[\"timeInSeconds\"] = int(hours) * 3600 + int(minutes) * 60 + int(seconds)\n",
      "        \n",
      "        runners[gender].append(r)"
     ],
     "language": "python",
     "metadata": {},
     "outputs": [],
     "prompt_number": 143
    },
    {
     "cell_type": "heading",
     "level": 2,
     "metadata": {},
     "source": [
      "Number of runners"
     ]
    },
    {
     "cell_type": "markdown",
     "metadata": {},
     "source": [
      "Let's run that to fetch all the runners, men and women"
     ]
    },
    {
     "cell_type": "code",
     "collapsed": false,
     "input": [
      "runners = { \"M\": [], \"W\": [] }\n",
      "\n",
      "for i in range(1, 13):\n",
      "    scrap_page(\"M\", runners, i)\n",
      "    scrap_page(\"W\", runners, i)\n",
      "    \n",
      "total_men = len(runners[\"M\"])\n",
      "total_women = len(runners[\"W\"])\n",
      "print(\"Men:\", total_men)\n",
      "print(\"Women:\", total_women)"
     ],
     "language": "python",
     "metadata": {},
     "outputs": [
      {
       "output_type": "stream",
       "stream": "stdout",
       "text": [
        "Men: 2982\n",
        "Women: 2150\n"
       ]
      }
     ],
     "prompt_number": 144
    },
    {
     "cell_type": "heading",
     "level": 2,
     "metadata": {},
     "source": [
      "Time range"
     ]
    },
    {
     "cell_type": "code",
     "collapsed": false,
     "input": [
      "for g in runners.keys():\n",
      "    print(g, \": first in \" + runners[g][0][\"time\"] + \" , last in \" + runners[g][-1][\"time\"])"
     ],
     "language": "python",
     "metadata": {},
     "outputs": [
      {
       "output_type": "stream",
       "stream": "stdout",
       "text": [
        "M : first in 29:54 , last in 1:43:10\n",
        "W : first in 35:59 , last in 1:40:46\n"
       ]
      }
     ],
     "prompt_number": 145
    },
    {
     "cell_type": "heading",
     "level": 2,
     "metadata": {},
     "source": [
      "Most popular firstnames for men"
     ]
    },
    {
     "cell_type": "code",
     "collapsed": false,
     "input": [
      "top = 10\n",
      "men = Counter([p[\"firstname\"] for p in runners[\"M\"]])\n",
      "top_men = men.most_common(top)\n",
      "for i, m in enumerate(top_men):\n",
      "    print(str(i+1) + \". \" + m[0] + \": \" + str(m[1]))"
     ],
     "language": "python",
     "metadata": {},
     "outputs": [
      {
       "output_type": "stream",
       "stream": "stdout",
       "text": [
        "1. Johan: 101\n",
        "2. Anders: 83\n",
        "3. Fredrik: 82\n",
        "4. Peter: 72\n",
        "5. Martin: 69\n",
        "6. Mikael: 68\n",
        "7. Daniel: 64\n",
        "8. Magnus: 64\n",
        "9. Jonas: 57\n",
        "10. Andreas: 54\n"
       ]
      }
     ],
     "prompt_number": 146
    },
    {
     "cell_type": "heading",
     "level": 2,
     "metadata": {},
     "source": [
      "Most popular firstnames for women"
     ]
    },
    {
     "cell_type": "code",
     "collapsed": false,
     "input": [
      "women = Counter([p[\"firstname\"] for p in runners[\"W\"]])\n",
      "top_women = women.most_common(top)\n",
      "for i, w in enumerate(top_women):\n",
      "    print(str(i+1) + \". \" + w[0] + \": \" + str(w[1]))"
     ],
     "language": "python",
     "metadata": {},
     "outputs": [
      {
       "output_type": "stream",
       "stream": "stdout",
       "text": [
        "1. Anna: 90\n",
        "2. Maria: 62\n",
        "3. Jenny: 43\n",
        "4. Malin: 40\n",
        "5. Karin: 37\n",
        "6. Emma: 36\n",
        "7. Sara: 35\n",
        "8. Annika: 32\n",
        "9. Johanna: 32\n",
        "10. Cecilia: 32\n"
       ]
      }
     ],
     "prompt_number": 147
    },
    {
     "cell_type": "heading",
     "level": 2,
     "metadata": {},
     "source": [
      "Time distribution"
     ]
    },
    {
     "cell_type": "markdown",
     "metadata": {},
     "source": [
      "One interesting post analysis is to compare how the runners expected to perform to how they actually performed.\n",
      "\n",
      "Let's redraw the previous start groups."
     ]
    },
    {
     "cell_type": "heading",
     "level": 3,
     "metadata": {},
     "source": [
      "Start group distribution"
     ]
    },
    {
     "cell_type": "code",
     "collapsed": false,
     "input": [
      "url = 'http://www.malmomilen.se/anmaelan/startlista-2014'\n",
      "page = requests.get(url)\n",
      "soup = BeautifulSoup(page.text)\n",
      "table = soup.body.table.find_all('tr')\n",
      "\n",
      "ps = {}\n",
      "for line in table:\n",
      "    c = line.find_all('td')\n",
      "    time = c[4].text if c[4].text != '' else 'N/A'\n",
      "    if time not in ps:\n",
      "        ps[time] = 0\n",
      "    ps[time] += 1\n",
      "\n",
      "sorted_groups = ['Elitgruppen', 'Under 42 minuter', 'Under 45 minuter', '45-50 minuter', \n",
      "                 '50-55 minuter', '55-60 minuter', '60+ minuter', 'Barnloppet']\n",
      "groups = [g[:8] for g in sorted_groups]\n",
      "y_pos = np.arange(len(groups))[::-1]\n",
      "n = [ps[group] for group in groups]\n",
      "\n",
      "rects = plt.barh(y_pos, n, align='center', alpha=0.5)\n",
      "plt.yticks(y_pos, sorted_groups)\n",
      "plt.xlabel('Number of participants')\n",
      "plt.title('Start group distribution')\n",
      "\n",
      "for i, rect in enumerate(rects):\n",
      "    plt.text(0.95 * rect.get_width(), rect.get_y() + rect.get_height() / 2.0, ps[groups[i]], ha='right', va='center')\n",
      "\n",
      "plt.show()"
     ],
     "language": "python",
     "metadata": {},
     "outputs": [
      {
       "metadata": {},
       "output_type": "display_data",
       "png": "[encoded data removed]",
       "text": [
        "<matplotlib.figure.Figure at 0x7fa4d58d6c50>"
       ]
      }
     ],
     "prompt_number": 148
    },
    {
     "cell_type": "heading",
     "level": 3,
     "metadata": {},
     "source": [
      "Post race time distribution"
     ]
    },
    {
     "cell_type": "markdown",
     "metadata": {},
     "source": [
      "In that case, let's group men and women together.\n",
      "\n",
      "We display the same graph, but this time with the final values. There might be a **small gap** between the number of registered runners and the number of people who actually finished the race.\n",
      "\n",
      "But anyway the graph still gives a pretty good idea of how the race went."
     ]
    },
    {
     "cell_type": "code",
     "collapsed": false,
     "input": [
      "all_runners = runners[\"M\"] + runners[\"W\"]\n",
      "intervals = [(0, 40), (41, 42), (43, 45), (46, 50), (51, 55), (56, 60), (61, 200)]\n",
      "ids = [0] * 1000\n",
      "for i, inter in enumerate(intervals):\n",
      "    ids[inter[0]:inter[1]] = [i] * (inter[1] - inter[0] + 1)\n",
      "    \n",
      "c = Counter([ids[int(math.ceil(r[\"timeInSeconds\"] / 60))] for r in all_runners])\n",
      "results = [cnt[1] for cnt in c.items()]\n",
      "\n",
      "# remove barnloppet for this analysis\n",
      "final_groups = sorted_groups[:-1]\n",
      "final_y_pos = np.arange(len(final_groups))[::-1]\n",
      "\n",
      "rects = plt.barh(final_y_pos, results, align='center', alpha=0.6)\n",
      "plt.yticks(final_y_pos, final_groups)\n",
      "plt.xlabel('Number of participants')\n",
      "plt.title('Final time distribution')\n",
      "\n",
      "for i, rect in enumerate(rects):\n",
      "    plt.text(0.95 * rect.get_width(), rect.get_y() + rect.get_height() / 2.0, results[i], ha='right', va='center')\n",
      "\n",
      "plt.show()"
     ],
     "language": "python",
     "metadata": {},
     "outputs": [
      {
       "metadata": {},
       "output_type": "display_data",
       "png": "[encoded data removed]",
       "text": [
        "<matplotlib.figure.Figure at 0x7fa4d0560c88>"
       ]
      }
     ],
     "prompt_number": 149
    }
   ],
   "metadata": {}
  }
 ]
}