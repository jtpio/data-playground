{
 "metadata": {
  "name": "",
  "signature": "sha256:ef91535b7ecd9ceb4c04f33dcf970765fec571f6be038ee41ba18fb888ae176d"
 },
 "nbformat": 3,
 "nbformat_minor": 0,
 "worksheets": [
  {
   "cells": [
    {
     "cell_type": "markdown",
     "metadata": {},
     "source": [
      "# [This is a WIP]\n",
      "\n",
      "# Finding out what I like using Trello\n",
      "\n",
      "## Using Trello to organize my articles\n",
      "\n",
      "I tend to spend a lot of time on the Internet reading articles about almost everything.\n",
      "\n",
      "But there is a problem: it is very easy to be overwhelmed by tons of stuff to read and watch. \n",
      "\n",
      "In the beginning, I was doing it the lazy way, opening a new tab with the content I wanted to read, telling myself: \"yes I will go back to it soon, it sounds very interesting and if I don't read it, I will miss out on something cool\". But this tab would stay opened for months (really). Sometimes it would be closed by inadvertance or lazyness and would be forgotten in the limbo.\n",
      "\n",
      "This was a bad habit. One day I discovered Trello, the very good project management tool, and I decided to give it a try. I would use it not for work or anything related, but just as a personal assistant to remember some of my stuff.\n",
      "\n",
      "Quickly it became part of my daily routine, and along with the mobile app it became very easy to access any content that I have on Trello. Naturally, the idea of using it to save and organize articles came by itself.\n",
      "\n",
      "I created a board called *To Read and Watch*, with four lists:\n",
      "- To Read\n",
      "- To Watch\n",
      "- Done\n",
      "- Save\n",
      "\n",
      "<img src=\"img/overview.png\">\n",
      "\n",
      "How does it work? Very easy. Everytime I spot an article that looks interesting and I know I will have to read it sooner or later, I just put it in the list *To Read*. The title of the card corresponds to the title of the article and the link is in the description.\n",
      "\n",
      "<img src=\"img/article.png\">\n",
      "\n",
      "I use labels to classify my articles, so when I want to read something I can easily make a choice depending on my current mood. Some labels examples:\n",
      "- Programming and development\n",
      "- Maths\n",
      "- News\n",
      "- Culture\n",
      "- ...\n",
      "\n",
      "When I am done reading or watching, I move the card to the list *Done*, or the list *Save* if it was a good read that could lead to further investigations.\n",
      "\n",
      "I have been doing this for several months already and this has been very convenient to me. It is way more flexible because Trello can be accessed from my personal computer, phone, tablet, work computer ... In a way, I always feel like there is something to learn and read, wherever I could be as long as I have one of these devices with me. If I have to wait for the bus for example and feel bored, I know there is already a selection of interesting stuff that are just waiting to be \"processed\".\n",
      "\n",
      "## Knowing more about myself\n",
      "\n",
      "Structuring this way makes it easy to keep track of everything. Sometimes I recall something I have read somewhere on the Internet, but it's been too long or my memories are too fusy. Trello provides a good search functionality, so I know there is a way to find the related article, as long as I remember what it was about.\n",
      "\n",
      "I am usually very curious, and seeing all of this data being created and stored (by me!) makes me want to make more advanced research and stats.\n",
      "\n",
      "There are a lot of questions that can be asked about my reading habits, which is in my opinion very related to personal interests:\n",
      "- How many articles read / in the queue?\n",
      "- What is the label I use the most?\n",
      "- How long does an article stay in the *To Read* in average?\n",
      "- What day of the week are there the most articles moved from *To Read* to *Done*?\n",
      "- What kind of topic is the most present in my lists?\n",
      "\n",
      "\n",
      "All of this is very exciting. As I am writing right now I haven't even started playing with the data, Python and graphs, but I know the results will be worth it.\n",
      "\n",
      "## How to do that?\n",
      "\n",
      "Trello provides an API, and that's a good news. With the API it's even possible to access more data than using the standard web UI.\n",
      "\n",
      "So that's our tool! Couple to that I will use Python, because requests, beautifulsoup and matplotlib are wonderful tools. More Python libraries will be also used, especially if I decide to do some machine learning to be able to predict my future readings.\n",
      "\n",
      "## Getting started with the Trello API\n",
      "\n",
      "Let's get started!\n",
      "\n",
      "First thing to do is to become more familiar with the API. This first part will be all about data wrangling and how to arrange the data in a nice way so it becomes easy to use.\n"
     ]
    },
    {
     "cell_type": "code",
     "collapsed": false,
     "input": [
      "import os\n",
      "import requests\n",
      "import json\n",
      "\n",
      "TRELLO_API = 'https://api.trello.com/1/'\n",
      "TRELLO_API_KEY = os.getenv('TRELLO_API_KEY', '')\n",
      "TRELLO_API_SECRET = os.getenv('TRELLO_API_SECRET', '')\n",
      "TRELLO_TOKEN = os.getenv('TRELLO_TOKEN', '')\n",
      "\n",
      "auth = '?key=' + TRELLO_API_KEY + '&token=' + TRELLO_TOKEN\n",
      "\n",
      "BOARD_ID = os.getenv('TRELLO_BOARD_ID', '')"
     ],
     "language": "python",
     "metadata": {},
     "outputs": [],
     "prompt_number": 2
    },
    {
     "cell_type": "markdown",
     "metadata": {},
     "source": [
      "Now that everything is set up, let's start getting some data.\n",
      "\n",
      "### Get the total number of cards for each of the four lists\n",
      "\n",
      "An easy one to get started. "
     ]
    },
    {
     "cell_type": "code",
     "collapsed": false,
     "input": [
      "# Get the board\n",
      "board = requests.get(TRELLO_API + 'boards/' + BOARD_ID + auth).json()\n",
      "\n",
      "# Print the board\n",
      "# print(json.dumps(board, indent=4))\n",
      "\n",
      "labels = board['labelNames'];\n",
      "raw_lists = requests.get(TRELLO_API + 'boards/' + BOARD_ID + '/lists' + auth).json()\n",
      "\n",
      "lists_filter = ['To Read', 'To Watch', 'Done', 'Save']\n",
      "\n",
      "# Reformat the lists to a dic list_name -> list_id\n",
      "lists_ids = {x['name']: x['id'] for x in raw_lists if x['name'] in lists_filter}\n",
      "\n",
      "def get_actions(list_id):\n",
      "    res = []\n",
      "    page = 0\n",
      "    data = [1]\n",
      "    while len(data) != 0:\n",
      "        data = requests.get(TRELLO_API + 'lists/' + list_id + '/actions' \n",
      "                            + auth + '&page=' + str(page) + 'limit=1000').json() \n",
      "        res += data\n",
      "        page += 1\n",
      "        \n",
      "    return res\n",
      "\n",
      "\n",
      "def get_list(list_id):\n",
      "    return {\n",
      "        'cards': requests.get(TRELLO_API + 'lists/' + list_id + '/cards' + auth).json(),\n",
      "        'actions': get_actions(list_id)\n",
      "    }\n",
      "\n",
      "ls = {list_name: get_list(lists_ids[list_name]) for list_name in lists_ids.keys()}\n",
      "\n",
      "number_cards_per_list = {x: len(c['cards']) for x, c in ls.items()}\n",
      "\n",
      "for x, c in ls.items():\n",
      "    print('The list \"' + x + '\" contains ' + str(len(c['cards'])) + ' cards')"
     ],
     "language": "python",
     "metadata": {},
     "outputs": [
      {
       "output_type": "stream",
       "stream": "stdout",
       "text": [
        "The list \"Done\" contains 188 cards\n",
        "The list \"To Read\" contains 41 cards\n",
        "The list \"Save\" contains 49 cards\n",
        "The list \"To Watch\" contains 19 cards\n"
       ]
      }
     ],
     "prompt_number": 3
    },
    {
     "cell_type": "markdown",
     "metadata": {},
     "source": [
      "Visualized:"
     ]
    },
    {
     "cell_type": "code",
     "collapsed": false,
     "input": [
      "from matplotlib.ticker import FuncFormatter\n",
      "import matplotlib.pyplot as plt\n",
      "import numpy as np\n",
      "%matplotlib inline\n",
      "plt.rcdefaults()\n",
      "\n",
      "keys = list(number_cards_per_list.keys())\n",
      "y = np.arange(len(number_cards_per_list.keys()))\n",
      "rects = plt.barh(y, list(number_cards_per_list.values()), alpha=0.5)\n",
      "plt.yticks(y + 0.4, keys)\n",
      "\n",
      "for i, rect in enumerate(rects):\n",
      "    plt.text(0.95 * rect.get_width(), rect.get_y() + rect.get_height() / 2.0, number_cards_per_list[keys[i]], ha='right', va='center')\n",
      "\n",
      "plt.show()"
     ],
     "language": "python",
     "metadata": {},
     "outputs": [
      {
       "metadata": {},
       "output_type": "display_data",
       "png": "[encoded data removed]",
       "text": [
        "<matplotlib.figure.Figure at 0x7f4a46f05780>"
       ]
      }
     ],
     "prompt_number": 26
    },
    {
     "cell_type": "markdown",
     "metadata": {},
     "source": [
      "Now that we retrieved almost all the data we need, we can calculate stats on the cards.\n",
      "One thing to notice is that some cards are sometimes added to the list *Done* without going through the list *To Read*. This happens when I spot an article, read it directly, and thinks it is important enough to be remembered."
     ]
    },
    {
     "cell_type": "markdown",
     "metadata": {},
     "source": [
      "## Number of cards per label\n",
      "\n",
      "Some cards have more than one label."
     ]
    },
    {
     "cell_type": "code",
     "collapsed": false,
     "input": [
      "from collections import Counter\n",
      "#print(json.dumps(ls['To Read']['cards'], indent=4))\n",
      "\n",
      "big_list_of_cards = [card for c in ls.values() for card in c['cards']]\n",
      "# print(big_list_of_cards)\n",
      "print('Total number of cards: ' + str(len(big_list_of_cards)))\n",
      "\n",
      "label_count = dict(Counter([(label['name'], label['color']) for c in big_list_of_cards for label in c['labels']]).most_common())\n",
      "\n",
      "for label, number_of_cards in label_count.items():\n",
      "    print(str(label) + ' used ' + str(number_of_cards) + ' times')"
     ],
     "language": "python",
     "metadata": {},
     "outputs": [
      {
       "output_type": "stream",
       "stream": "stdout",
       "text": [
        "Total number of cards: 297\n",
        "('Music', 'sky') used 2 times\n",
        "('Math', 'purple') used 25 times\n",
        "('Computer Science', None) used 9 times\n",
        "('Programming', 'green') used 147 times\n",
        "('Culture', 'yellow') used 106 times\n",
        "('Gaming', 'black') used 4 times\n",
        "('Science', 'red') used 18 times\n",
        "('Short Story', 'lime') used 2 times\n",
        "('News', 'pink') used 4 times\n",
        "('Other', 'blue') used 31 times\n",
        "('Fun', 'orange') used 10 times\n"
       ]
      }
     ],
     "prompt_number": 5
    },
    {
     "cell_type": "markdown",
     "metadata": {},
     "source": [
      "Visualized"
     ]
    },
    {
     "cell_type": "code",
     "collapsed": false,
     "input": [
      "# matplotlib doesn't know about these colors by default\n",
      "color_replacement = {\n",
      "    'sky': '#00C2E0',\n",
      "    'lime': '#51E898',\n",
      "    None: '#EEEEEE'\n",
      "}\n",
      "\n",
      "x = np.arange(len(label_count.keys()))\n",
      "plt.barh(x, list(label_count.values()), color=[a[1] if a[1] not in color_replacement else color_replacement[a[1]] for a in label_count.keys()])\n",
      "plt.yticks(x + 0.4, list(a[0] for a in label_count.keys()))\n",
      "plt.show()"
     ],
     "language": "python",
     "metadata": {},
     "outputs": [
      {
       "metadata": {},
       "output_type": "display_data",
       "png": "[encoded data removed]",
       "text": [
        "<matplotlib.figure.Figure at 0x7f4a46c35d30>"
       ]
      }
     ],
     "prompt_number": 29
    },
    {
     "cell_type": "markdown",
     "metadata": {},
     "source": [
      "## How many cards were moved from *To Read* to *Done*?"
     ]
    },
    {
     "cell_type": "code",
     "collapsed": false,
     "input": [
      "print(str(len(ls['To Read']['actions'])) + ' actions on the list \"To Read\"')\n",
      "      \n",
      "# Filter the cards that were in the list \"To Read\" before\n",
      "moved_to_done = [c for c in ls['To Read']['actions'] \n",
      "                 if 'data' in c and 'listAfter' in c['data'] and c['data']['listAfter']['id'] == lists_ids['Done']]\n",
      "\n",
      "#print(json.dumps(ls['To Read']['actions'], indent=4))\n",
      "print(str(len(moved_to_done)) + ' cards were moved from \"To Read\" to \"Done\"')"
     ],
     "language": "python",
     "metadata": {},
     "outputs": [
      {
       "output_type": "stream",
       "stream": "stdout",
       "text": [
        "576 actions on the list \"To Read\"\n",
        "138 cards were moved from \"To Read\" to \"Done\"\n"
       ]
      }
     ],
     "prompt_number": 9
    },
    {
     "cell_type": "markdown",
     "metadata": {},
     "source": [
      "## What is the average time it takes for a card to move from *To Read* to *Done*"
     ]
    },
    {
     "cell_type": "code",
     "collapsed": false,
     "input": [
      "import datetime\n",
      "import math\n",
      "import statistics\n",
      "import collections\n",
      "\n",
      "date_format = '%Y-%m-%dT%H:%M:%S'\n",
      "def parse_date(date_str):\n",
      "    return datetime.datetime.strptime(date_str[:date_str.index('.')], date_format)\n",
      "\n",
      "# Create a dictionary card_id -> date to track the date a card was moved\n",
      "dates_moved = {c['data']['card']['id']: parse_date(c['date']) for c in moved_to_done}\n",
      "\n",
      "# Create a dictionary card_id -> date to track the date a card was created\n",
      "dates_created = {c['data']['card']['id']: parse_date(c['date']) for c in ls['To Read']['actions'] \n",
      "                 if 'card' in c['data'] and c['data']['card']['id'] in dates_moved.keys() and c['type'] == 'createCard'}\n",
      "\n",
      "# Calculate the difference in days, assuming date_moved > date_created\n",
      "times = [(d - dates_created[cid]).days for cid, d in dates_moved.items()]\n",
      "\n",
      "average_days_for_moving = math.floor(statistics.mean(times))\n",
      "standard_deviation = statistics.stdev(times)\n",
      "variance = statistics.variance(times)\n",
      "max_days = max(times)\n",
      "min_days = min(times)\n",
      "\n",
      "print('It takes ' + str(average_days_for_moving) + ' days in average for a card to be moved from \"To Read\" to \"Done\"')\n",
      "print('max: ' + str(max_days) + ', min: ' + str(min_days) + ', stdev: ' + str(standard_deviation), ', variance: ' + str(variance))\n"
     ],
     "language": "python",
     "metadata": {},
     "outputs": [
      {
       "output_type": "stream",
       "stream": "stdout",
       "text": [
        "It takes 39 days in average for a card to be moved from \"To Read\" to \"Done\"\n",
        "max: 328, min: 0, stdev: 72.86062217280636 , variance: 5308.670263408442\n"
       ]
      }
     ],
     "prompt_number": 10
    },
    {
     "cell_type": "markdown",
     "metadata": {},
     "source": [
      "TODO: put a graph to visualize the distribution"
     ]
    },
    {
     "cell_type": "markdown",
     "metadata": {},
     "source": [
      "## Average processing time per label?\n",
      "### Check what label is processed the faster"
     ]
    },
    {
     "cell_type": "markdown",
     "metadata": {},
     "source": [
      "## At what time of the day and what day of the week a card is more likely to be moved?"
     ]
    }
   ],
   "metadata": {}
  }
 ]
}