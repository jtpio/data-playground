{
 "metadata": {
  "name": "",
  "signature": "sha256:0f143516352a0f8b1b54ff25c8d7b4ad1e2e27f6e9127ee993b755c65c7f6296"
 },
 "nbformat": 3,
 "nbformat_minor": 0,
 "worksheets": []
}