{
 "metadata": {
  "name": "",
  "signature": "sha256:0e9d36f7c49f9a9fdab1658d90d3c6ab36baced280b7f9f2eed0ca7ab7d65303"
 },
 "nbformat": 3,
 "nbformat_minor": 0,
 "worksheets": [
  {
   "cells": [
    {
     "cell_type": "markdown",
     "metadata": {},
     "source": [
      "# How I use Trello to manage the articles I read"
     ]
    }
   ],
   "metadata": {}
  }
 ]
}