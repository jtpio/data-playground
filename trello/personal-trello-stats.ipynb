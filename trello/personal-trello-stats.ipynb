{
 "metadata": {
  "name": "",
  "signature": "sha256:27ee8ab5807f27f05fb55858d84be44c1f1467446a1b454424f72304eae60533"
 },
 "nbformat": 3,
 "nbformat_minor": 0,
 "worksheets": [
  {
   "cells": [
    {
     "cell_type": "markdown",
     "metadata": {},
     "source": [
      "# Finding out what I like using Trello\n",
      "\n",
      "## Using Trello for organizing my articles\n",
      "\n",
      "I tend to spend a lot of time on the Internet reading articles about almost everything, as long as they spark my interests.\n",
      "\n",
      "But there is a problem: it is very easy to be overwhelmed by tons of stuff to read and watch. \n",
      "\n",
      "In the beginning, I was doing it the lazy way, opening a new tab with the content I wanted to read, telling myself: \"yes I will go back to it soon, it sounds very interesting and if I don't read it, I will miss out on something cool\". But this tab would stay opened for months (really). Sometimes it would be close by inadvertance or lazyness and it will be forgotten in the limbo.\n",
      "\n",
      "This was a bad habit. One day I discovered Trello, the very good project management tool, and I decided to give it a try. I would use it not for work or anything related, but just as a personal assistant to remember some of my stuff.\n",
      "\n",
      "Quickly it became part of my daily routine, and along with the mobile app it became very easy to access any content that I have on Trello. Naturally, the idea of using it to save and organize articles came by itself.\n",
      "\n",
      "I created a board called *To Read and Watch*, with four lists:\n",
      "- To Read\n",
      "- To Watch\n",
      "- Done\n",
      "- Save\n",
      "\n",
      "<img src=\"img/overview.png\">\n",
      "\n",
      "How it works? Very easy. Everytime I spot an article that looks interesting and I know I have to read it sooner or later, I just put it in the list \"To Read\". The title of the card corresponds to the title of the article and the link is in the description.\n",
      "\n",
      "<img src=\"img/article.png\">\n",
      "\n",
      "I use labels to classify my articles, so when I want to read something I can easily make a choice depending on my current mood. Some labels examples:\n",
      "- Programming and development\n",
      "- Maths\n",
      "- News\n",
      "- Culture\n",
      "- ...\n",
      "\n",
      "When I am done reading or watching, I move the card to the list *Done*, or the list *Save* if it was a good read that could lead to further investigations.\n",
      "\n",
      "I have been doing this for several months already and this has been very convenient to me. It is way more flexible because Trello can be accessed from my personal computer, phone, tablet, work computer ... In a way, I always feel like there is something to learn and read, wherever I could be as long as I have one of these devices with me. If I have to wait for the bus for example and feel bored, I know there is already a selection of interesting stuff that are just waiting to be \"processed\".\n",
      "\n",
      "## Knowing more about myself\n",
      "\n",
      "Structuring this way makes it easy to keep track of everything. Sometimes I recall something I have read somewhere on the Internet (very precise ...), but it's been too long or my memories are too fusy. Trello provides a good search functionality, so I know there is a way to find the related article, as long as I remember some keywords.\n",
      "\n",
      "I am usually very curious, and seeing all of this data being created and stored (by me!) makes me want to make more advanced research and stats.\n",
      "\n",
      "There are a lot of questions that can be asked about my reading habits, which is in my opinion very related to personal interests:\n",
      "- How many articles read / in the queue?\n",
      "- What is the label I use the most?\n",
      "- How long does an article stay in the *To Read* in average?\n",
      "- What day of the week are there the most articles moved from *To Read* to *Done*?\n",
      "- What kind of topic is the most present in my lists?\n",
      "\n",
      "\n",
      "All of this is very exciting. As I am writing right now I haven't even started playing with the data, Python and graphs, but I know the results will be worth it.\n",
      "\n",
      "## How to do that?\n",
      "\n",
      "Trello provides an API, and that's a good news. With the API it's even possible to access more data than using the standard web UI.\n",
      "\n",
      "So that's our tool! Couple to that I will use Python, because requests, beautifulsoup and matplotlib are wonderful tools. More Python libraries will be also used, especially if I decide to do some machine learning to be able to predict my future readings.\n",
      "\n",
      "## Getting started with the Trello API\n",
      "\n",
      "Let's get started!\n",
      "\n",
      "First thing to do is to become more familiar with the API. This first part will be all about data wrangling and how to arrange the data in a nice way so it becomes easy to use.\n"
     ]
    },
    {
     "cell_type": "code",
     "collapsed": false,
     "input": [
      "import os\n",
      "import requests\n",
      "import json\n",
      "\n",
      "TRELLO_API = 'https://api.trello.com/1/'\n",
      "TRELLO_API_KEY = os.getenv('TRELLO_API_KEY', '')\n",
      "TRELLO_API_SECRET = os.getenv('TRELLO_API_SECRET', '')\n",
      "TRELLO_TOKEN = os.getenv('TRELLO_TOKEN', '')\n",
      "\n",
      "auth = '?key=' + TRELLO_API_KEY + '&token=' + TRELLO_TOKEN\n",
      "\n",
      "BOARD_ID = os.getenv('TRELLO_BOARD_ID', '')"
     ],
     "language": "python",
     "metadata": {},
     "outputs": [],
     "prompt_number": 1
    },
    {
     "cell_type": "markdown",
     "metadata": {},
     "source": [
      "Now that everything is set up, let's start getting some data.\n",
      "\n",
      "### Get the total number of cards for each of the four lists\n",
      "\n",
      "An easy one to get started. "
     ]
    },
    {
     "cell_type": "code",
     "collapsed": false,
     "input": [
      "# Get the board\n",
      "board = requests.get(TRELLO_API + 'boards/' + BOARD_ID + auth).json()\n",
      "\n",
      "# Print the board\n",
      "# print(json.dumps(board, indent=4))\n",
      "\n",
      "labels = board['labelNames'];\n",
      "raw_lists = requests.get(TRELLO_API + 'boards/' + BOARD_ID + '/lists' + auth).json()\n",
      "\n",
      "lists_filter = ['To Read', 'To Watch', 'Done', 'Save']\n",
      "\n",
      "# Reformat the lists to a dic list_name -> list_id\n",
      "lists_ids = {x['name']: x['id'] for x in raw_lists if x['name'] in lists_filter}\n",
      "\n",
      "def get_list(list_id):\n",
      "    return {\n",
      "        'cards': requests.get(TRELLO_API + 'lists/' + list_id + '/cards' + auth).json(),\n",
      "        'actions': requests.get(TRELLO_API + 'lists/' + list_id + '/actions' + auth).json()\n",
      "    }\n",
      "\n",
      "ls = {list_name: get_list(lists_ids[list_name]) for list_name in lists_ids.keys()}\n",
      "\n",
      "for x, c in ls.items():\n",
      "    print('The list ' + x + ' contains ' + str(len(c['cards'])) + ' cards')"
     ],
     "language": "python",
     "metadata": {},
     "outputs": [
      {
       "output_type": "stream",
       "stream": "stdout",
       "text": [
        "The list To Read contains 40 cards\n",
        "The list To Watch contains 20 cards\n",
        "The list Done contains 170 cards\n",
        "The list Save contains 37 cards\n"
       ]
      }
     ],
     "prompt_number": 2
    },
    {
     "cell_type": "code",
     "collapsed": false,
     "input": [
      "# print(json.dumps(ls['Done']['actions'], indent=4))"
     ],
     "language": "python",
     "metadata": {},
     "outputs": [],
     "prompt_number": 3
    }
   ],
   "metadata": {}
  }
 ]
}